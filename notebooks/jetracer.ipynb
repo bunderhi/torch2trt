{
 "cells": [
  {
   "cell_type": "code",
   "execution_count": null,
   "metadata": {},
   "outputs": [],
   "source": [
    "import torch\n",
    "import torch2trt\n",
    "import matplotlib.pyplot as plt\n",
    "import cv2"
   ]
  },
  {
   "cell_type": "code",
   "execution_count": null,
   "metadata": {},
   "outputs": [],
   "source": [
    "# Load the jetracer trained model \n",
    "model = torch.load('/models/run02/weights.pt')"
   ]
  },
  {
   "cell_type": "code",
   "execution_count": null,
   "metadata": {},
   "outputs": [],
   "source": [
    "model = model.cuda().eval().half()"
   ]
  },
  {
   "cell_type": "code",
   "execution_count": null,
   "metadata": {},
   "outputs": [],
   "source": [
    "class ModelWrapper(torch.nn.Module):\n",
    "    def __init__(self, model):\n",
    "        super(ModelWrapper, self).__init__()\n",
    "        self.model = model\n",
    "    def forward(self, x):\n",
    "        return self.model(x)['out']"
   ]
  },
  {
   "cell_type": "code",
   "execution_count": null,
   "metadata": {},
   "outputs": [],
   "source": [
    "model_w = ModelWrapper(model).half()"
   ]
  },
  {
   "cell_type": "code",
   "execution_count": null,
   "metadata": {},
   "outputs": [],
   "source": [
    "data = torch.ones((1,3,300,650)).cuda().half()"
   ]
  },
  {
   "cell_type": "code",
   "execution_count": null,
   "metadata": {},
   "outputs": [],
   "source": [
    "model_trt = torch2trt.torch2trt(model_w, [data], fp16_mode=True)"
   ]
  },
  {
   "cell_type": "markdown",
   "metadata": {},
   "source": [
    "# Live demo"
   ]
  },
  {
   "cell_type": "code",
   "execution_count": null,
   "metadata": {},
   "outputs": [],
   "source": [
    "ino = 289\n",
    "# Read  a sample image and mask from the data-set\n",
    "img = cv2.imread(f'/models/train_data/Images/{ino:03d}_cam-image1_.jpg').transpose(2,0,1).reshape(1,3,300,650)\n",
    "mask = cv2.imread(f'/models/train_data/Masks/{ino:03d}_cam-image1_mask.png')\n",
    "input = torch.from_numpy(img).type(torch.cuda.FloatTensor)/255"
   ]
  },
  {
   "cell_type": "code",
   "execution_count": null,
   "metadata": {},
   "outputs": [],
   "source": [
    "with torch.no_grad():\n",
    "    output = model(input)"
   ]
  },
  {
   "cell_type": "code",
   "execution_count": null,
   "metadata": {},
   "outputs": [],
   "source": [
    "# Plot histogram of the prediction to find a suitable threshold. From the histogram a 0.1 looks like a good choice.\n",
    "plt.hist(output['out'].data.cpu().numpy().flatten())"
   ]
  },
  {
   "cell_type": "code",
   "execution_count": null,
   "metadata": {},
   "outputs": [],
   "source": [
    "# Plot the input image, ground truth and the predicted output\n",
    "plt.figure(figsize=(10,10));\n",
    "plt.subplot(131);\n",
    "plt.imshow(img[0,...].transpose(1,2,0));\n",
    "plt.title('Image')\n",
    "plt.axis('off');\n",
    "plt.subplot(132);\n",
    "plt.imshow(mask);\n",
    "plt.title('Ground Truth')\n",
    "plt.axis('off');\n",
    "plt.subplot(133);\n",
    "plt.imshow(output['out'].cpu().detach().numpy()[0][0]>0.4);\n",
    "plt.title('Segmentation Output')\n",
    "plt.axis('off');"
   ]
  },
  {
   "cell_type": "code",
   "execution_count": null,
   "metadata": {},
   "outputs": [],
   "source": [
    "output_trt = model_trt(input)"
   ]
  },
  {
   "cell_type": "code",
   "execution_count": null,
   "metadata": {},
   "outputs": [],
   "source": [
    "# Plot histogram of the prediction to find a suitable threshold. From the histogram a 0.1 looks like a good choice.\n",
    "plt.hist(output_trt['out'].data.cpu().numpy().flatten())"
   ]
  },
  {
   "cell_type": "code",
   "execution_count": null,
   "metadata": {},
   "outputs": [],
   "source": [
    "# Plot the input image, ground truth and the predicted output\n",
    "plt.figure(figsize=(10,10));\n",
    "plt.subplot(131);\n",
    "plt.imshow(img[0,...].transpose(1,2,0));\n",
    "plt.title('Image')\n",
    "plt.axis('off');\n",
    "plt.subplot(132);\n",
    "plt.imshow(mask);\n",
    "plt.title('Ground Truth')\n",
    "plt.axis('off');\n",
    "plt.subplot(133);\n",
    "plt.imshow(output_trt['out'].cpu().detach().numpy()[0][0]>0.4);\n",
    "plt.title('Segmentation Output')\n",
    "plt.axis('off');"
   ]
  }
 ],
 "metadata": {
  "kernelspec": {
   "display_name": "Python 3",
   "language": "python",
   "name": "python3"
  },
  "language_info": {
   "codemirror_mode": {
    "name": "ipython",
    "version": 3
   },
   "file_extension": ".py",
   "mimetype": "text/x-python",
   "name": "python",
   "nbconvert_exporter": "python",
   "pygments_lexer": "ipython3",
   "version": "3.6.7"
  }
 },
 "nbformat": 4,
 "nbformat_minor": 2
}